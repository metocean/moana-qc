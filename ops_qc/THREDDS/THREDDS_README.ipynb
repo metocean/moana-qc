{
 "cells": [
  {
   "cell_type": "markdown",
   "id": "030c563c",
   "metadata": {},
   "source": [
    "# Mangōpare Temperature and Depth Sensor Observations Published Data\n",
    "\n",
    "The data in this folder contains the available published near-real time and archived data from the Mangōpare Sensor program, from the Te Tiro Moana - Eyes on the ocean - team, part of the Moana Project. \n",
    "\n",
    "This data is updated as soon as the data is available"
   ]
  },
  {
   "cell_type": "markdown",
   "id": "f2a71d40",
   "metadata": {},
   "source": [
    "- Each file contains one deployment, with their corresponding, time, longitude, latitude and depth. \n",
    "- The files have a name structure as follows:\n",
    "\"MOANA_YYYYMMDD_HHmmSS_published.nc\".  For example, if the last measurement of the deployment is done at 01:41:30 on the 23 of October 2023, the file name would be \"MOANA_20231023_014130_published.nc\""
   ]
  },
  {
   "cell_type": "markdown",
   "id": "8c5c19c2",
   "metadata": {},
   "source": [
    "---\n",
    "## Requesting Data through THREDDS server using python"
   ]
  },
  {
   "cell_type": "markdown",
   "id": "cd14fc7c",
   "metadata": {},
   "source": [
    "#### Using xarray\n",
    "Knowing the file name"
   ]
  },
  {
   "cell_type": "code",
   "execution_count": 1,
   "id": "49a2703c",
   "metadata": {},
   "outputs": [],
   "source": [
    "import xarray as xr\n",
    "\n",
    "#Loading Data\n",
    "date = dt.datetime(year, month, 1)\n",
    "url = date.strftime(\n",
    "        \"http://131.203.52.77:6443/thredds/dodsC/mangopare/MOANA_%Y%m%d*.nc\" \n",
    "    )\n",
    "    data = xr.open_dataset(url)\n",
    "\n"
   ]
  },
  {
   "cell_type": "code",
   "execution_count": null,
   "id": "f717f1f5",
   "metadata": {},
   "outputs": [],
   "source": [
    "#Visualization\n",
    "from mpl_toolkits.mplot3d import Axes3D\n",
    "import matplotlib.pyplot as plt\n",
    "import numpy as np\n",
    "\n",
    "fig = plt.figure()\n",
    "ax = fig.add_subplot(111, projection='3d')\n",
    "\n",
    "x = data['LONGITUDE']\n",
    "y = data['LATITUDE']\n",
    "z = data['DEPTH']\n",
    "temp = data['TEMP']\n",
    "img = ax.scatter(x, y, z, c=temp)\n",
    "fig.colorbar(img)"
   ]
  },
  {
   "cell_type": "markdown",
   "id": "29f5bac2",
   "metadata": {},
   "source": [
    "---\n",
    "### Disclaimer\n",
    "By using the data that Meteorological Service of New Zealand Limited (MetService) makes available on this platform, you agree to this disclaimer.  The data is supplied by third parties to MetService and is aggregated and anonymised by MetService.  MetService does not independently check the data to ensure it is correct, accurate, complete, current, or suitable for use.  The data is made available by MetService on as is and as available basis.  You agree that any reliance you place on the data, including any analysis of, or decision you make based on, the data (or that analysis) is at your own risk.  You agree that MetService has no responsibility or liability for the data (or for any error or omission in the data) or for how you use that data.  To the maximum extent permitted by law, MetService disclaims all warranties, conditions, guarantees, and/or representations relating to the data and how you use that data.\n",
    "\n",
    "### Acknowledgement\n",
    "Data quality-control and processing provided by MetOcean Solutions, a Division of the Meteorological Service of New Zealand.  Mangōpare sensor and deck unit provided by Zebra-Tech, Ltd, Nelson, New Zealand as part of the Moana Project.  This work is a contribution to the Moana Project (www.moanaproject.org) funded by the New Zealand Ministry of Business Innovation and Employment, contract number METO1801.\n",
    "\n",
    "---\n",
    "\n",
    "### Contact information\n",
    "- Data Centre:  MetOcean Solutions, a Division of the Meteorological Service of New Zealand\n",
    "- Data Centre email: info@metocean.co.nz\n",
    "\n",
    "- Principal Investigator: Dr. Julie Jakoboski\n",
    "- Principal Investigator email: julie.jakoboski@metocean.co.nz\n",
    "\n",
    "- Publication code collaborator: Dr. Mireya Montaño\n",
    "- Publication code collaborator email: mireya.montano@metocean.co.nz\n",
    "\n",
    "---\n",
    "\n",
    "### References\n",
    "\n",
    "- Quality control repository: https://github.com/metocean/moana-qc\n",
    "- Dataset DOI: https://doi.org/10.5281/zenodo.10420342\n",
    "- Publication: Jakoboski J, Roughan M, Radford J, de Souza JMAC, Felsing M, Smith R, Puketapu-Waite N, Montaño Orozco M, Maxwell KH, and Van Vranken C (2024)  Partnering with the commercial fishing sector and Aotearoa New Zealand’s ocean community to develop a nationwide subsurface temperature monitoring program, Progress in Oceanography, 103278. doi: [https://doi.org/10.1016/j.pocean.2024.103278](https://doi.org/10.1016/j.pocean.2024.103278)\n",
    "\n"
   ]
  },
  {
   "cell_type": "code",
   "execution_count": null,
   "id": "96f1724b",
   "metadata": {},
   "outputs": [],
   "source": []
  }
 ],
 "metadata": {
  "kernelspec": {
   "display_name": "Python 3 (ipykernel)",
   "language": "python",
   "name": "python3"
  },
  "language_info": {
   "codemirror_mode": {
    "name": "ipython",
    "version": 3
   },
   "file_extension": ".py",
   "mimetype": "text/x-python",
   "name": "python",
   "nbconvert_exporter": "python",
   "pygments_lexer": "ipython3",
   "version": "3.9.13"
  }
 },
 "nbformat": 4,
 "nbformat_minor": 5
}
